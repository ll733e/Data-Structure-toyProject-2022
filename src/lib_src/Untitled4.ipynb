{
 "cells": [
  {
   "cell_type": "code",
   "execution_count": 1,
   "id": "8ce3d84e",
   "metadata": {},
   "outputs": [
    {
     "ename": "ModuleNotFoundError",
     "evalue": "No module named 'requests'",
     "output_type": "error",
     "traceback": [
      "\u001b[1;31m---------------------------------------------------------------------------\u001b[0m",
      "\u001b[1;31mModuleNotFoundError\u001b[0m                       Traceback (most recent call last)",
      "\u001b[1;32mc:\\Users\\dudgh\\Data-Structures-Algorithms\\src\\lib_src\\Untitled4.ipynb Cell 1'\u001b[0m in \u001b[0;36m<cell line: 1>\u001b[1;34m()\u001b[0m\n\u001b[1;32m----> <a href='vscode-notebook-cell:/c%3A/Users/dudgh/Data-Structures-Algorithms/src/lib_src/Untitled4.ipynb#ch0000000?line=0'>1</a>\u001b[0m \u001b[39mimport\u001b[39;00m \u001b[39mrequests\u001b[39;00m\n\u001b[0;32m      <a href='vscode-notebook-cell:/c%3A/Users/dudgh/Data-Structures-Algorithms/src/lib_src/Untitled4.ipynb#ch0000000?line=1'>2</a>\u001b[0m url \u001b[39m=\u001b[39m \u001b[39m'\u001b[39m\u001b[39mhttp://www.kyobobook.co.kr/categoryRenewal/categoryMain.laf?linkClass=3301&mallGb=KOR&orderClick=sgx\u001b[39m\u001b[39m'\u001b[39m\n\u001b[0;32m      <a href='vscode-notebook-cell:/c%3A/Users/dudgh/Data-Structures-Algorithms/src/lib_src/Untitled4.ipynb#ch0000000?line=2'>3</a>\u001b[0m res \u001b[39m=\u001b[39m requests\u001b[39m.\u001b[39mget(url)\n",
      "\u001b[1;31mModuleNotFoundError\u001b[0m: No module named 'requests'"
     ]
    }
   ],
   "source": [
    "import requests\n",
    "url = 'http://www.kyobobook.co.kr/categoryRenewal/categoryMain.laf?linkClass=3301&mallGb=KOR&orderClick=sgx'\n",
    "res = requests.get(url)\n",
    "print(res)\n",
    "\n",
    "import lxml.html\n",
    "\n",
    "root = lxml.html.fromstring(res.text)\n",
    "authors = root.cssselect('span.author')\n",
    "\n",
    "authorList = []\n",
    "con = 0\n",
    "for author in authors:\n",
    "    if con % 2 == 0:\n",
    "        authorList.append(author.text_content().strip())\n",
    "    con+=1\n",
    "\n",
    "\n",
    "root = lxml.html.fromstring(r.content)\n",
    "titles = root.cssselect('div.title >a >strong') \n",
    " \n",
    "titleList = []\n",
    "con = 0\n",
    "for title in titles:\n",
    "    if con % 2 == 0:\n",
    "        titleList.append(title.text.strip())\n",
    "    con += 1\n",
    "\n",
    "\n",
    "import pandas as pd\n",
    "\n",
    "data = {\n",
    "    'title' : titleList,\n",
    "    'author' : authorList\n",
    "}\n",
    "\n",
    "frame = pd.DataFrame(data)\n",
    "frame\n",
    "\n",
    "\n"
   ]
  }
 ],
 "metadata": {
  "interpreter": {
   "hash": "f50e367389c89aeed0656e954604187f07c378b1e1eaa08c4d86fd2ab67f5f70"
  },
  "kernelspec": {
   "display_name": "Python 3.9.12 64-bit (windows store)",
   "language": "python",
   "name": "python3"
  },
  "language_info": {
   "codemirror_mode": {
    "name": "ipython",
    "version": 3
   },
   "file_extension": ".py",
   "mimetype": "text/x-python",
   "name": "python",
   "nbconvert_exporter": "python",
   "pygments_lexer": "ipython3",
   "version": "3.9.13"
  }
 },
 "nbformat": 4,
 "nbformat_minor": 5
}
