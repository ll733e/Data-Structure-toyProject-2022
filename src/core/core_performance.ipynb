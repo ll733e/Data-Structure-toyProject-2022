{
 "cells": [
  {
   "cell_type": "code",
   "execution_count": 1,
   "metadata": {},
   "outputs": [
    {
     "ename": "ModuleNotFoundError",
     "evalue": "No module named 'numpy'",
     "output_type": "error",
     "traceback": [
      "\u001b[1;31m---------------------------------------------------------------------------\u001b[0m",
      "\u001b[1;31mModuleNotFoundError\u001b[0m                       Traceback (most recent call last)",
      "\u001b[1;32mc:\\Users\\louxsoen\\Documents\\P\\Data-Structures-Algorithms\\src\\core\\core_performance.ipynb Cell 1'\u001b[0m in \u001b[0;36m<cell line: 1>\u001b[1;34m()\u001b[0m\n\u001b[1;32m----> <a href='vscode-notebook-cell:/c%3A/Users/louxsoen/Documents/P/Data-Structures-Algorithms/src/core/core_performance.ipynb#ch0000000?line=0'>1</a>\u001b[0m \u001b[39mimport\u001b[39;00m \u001b[39mnumpy\u001b[39;00m \u001b[39mas\u001b[39;00m \u001b[39mnp\u001b[39;00m\n\u001b[0;32m      <a href='vscode-notebook-cell:/c%3A/Users/louxsoen/Documents/P/Data-Structures-Algorithms/src/core/core_performance.ipynb#ch0000000?line=1'>2</a>\u001b[0m \u001b[39mimport\u001b[39;00m \u001b[39mmatplotlib\u001b[39;00m\u001b[39m.\u001b[39;00m\u001b[39mpyplot\u001b[39;00m \u001b[39mas\u001b[39;00m \u001b[39mplt\u001b[39;00m\n\u001b[0;32m      <a href='vscode-notebook-cell:/c%3A/Users/louxsoen/Documents/P/Data-Structures-Algorithms/src/core/core_performance.ipynb#ch0000000?line=2'>3</a>\u001b[0m \u001b[39mimport\u001b[39;00m \u001b[39mtime\u001b[39;00m\n",
      "\u001b[1;31mModuleNotFoundError\u001b[0m: No module named 'numpy'"
     ]
    }
   ],
   "source": [
    "import numpy as np\n",
    "import matplotlib.pyplot as plt\n",
    "import time\n",
    "import os"
   ]
  },
  {
   "cell_type": "code",
   "execution_count": null,
   "metadata": {},
   "outputs": [
    {
     "ename": "NameError",
     "evalue": "name 'np' is not defined",
     "output_type": "error",
     "traceback": [
      "\u001b[1;31m---------------------------------------------------------------------------\u001b[0m",
      "\u001b[1;31mNameError\u001b[0m                                 Traceback (most recent call last)",
      "\u001b[1;32mc:\\Users\\louxsoen\\Documents\\P\\Data-Structures-Algorithms\\src\\core\\core_performance.ipynb Cell 2'\u001b[0m in \u001b[0;36m<cell line: 3>\u001b[1;34m()\u001b[0m\n\u001b[0;32m      <a href='vscode-notebook-cell:/c%3A/Users/louxsoen/Documents/P/Data-Structures-Algorithms/src/core/core_performance.ipynb#ch0000001?line=0'>1</a>\u001b[0m dotry \u001b[39m=\u001b[39m \u001b[39m100\u001b[39m\n\u001b[0;32m      <a href='vscode-notebook-cell:/c%3A/Users/louxsoen/Documents/P/Data-Structures-Algorithms/src/core/core_performance.ipynb#ch0000001?line=1'>2</a>\u001b[0m keyword \u001b[39m=\u001b[39m \u001b[39m\"\u001b[39m\u001b[39m지하철\u001b[39m\u001b[39m\"\u001b[39m\n\u001b[1;32m----> <a href='vscode-notebook-cell:/c%3A/Users/louxsoen/Documents/P/Data-Structures-Algorithms/src/core/core_performance.ipynb#ch0000001?line=2'>3</a>\u001b[0m batchTime \u001b[39m=\u001b[39m np\u001b[39m.\u001b[39mzeros(dotry)\n\u001b[0;32m      <a href='vscode-notebook-cell:/c%3A/Users/louxsoen/Documents/P/Data-Structures-Algorithms/src/core/core_performance.ipynb#ch0000001?line=3'>4</a>\u001b[0m \u001b[39mfor\u001b[39;00m i \u001b[39min\u001b[39;00m \u001b[39mrange\u001b[39m(dotry):\n\u001b[0;32m      <a href='vscode-notebook-cell:/c%3A/Users/louxsoen/Documents/P/Data-Structures-Algorithms/src/core/core_performance.ipynb#ch0000001?line=4'>5</a>\u001b[0m     start \u001b[39m=\u001b[39m time\u001b[39m.\u001b[39mtime()\n",
      "\u001b[1;31mNameError\u001b[0m: name 'np' is not defined"
     ]
    }
   ],
   "source": [
    "dotry = 100\n",
    "keyword = \"지하철\"\n",
    "batchTime = np.zeros(dotry)\n",
    "for i in range(dotry):\n",
    "    start = time.time()\n",
    "    #os.system(\"./IO\")\n",
    "    os.system(\"./core \\\"꽃 속에 잠겨\\\"\");\n",
    "    batchTime[i] = time.time() - start\n",
    "\n",
    "plt.title('Team 08 - CORE Library Performance test')\n",
    "plt.xlabel('epcohs')\n",
    "plt.ylabel('runtime (ms)')\n",
    "plt.grid()\n",
    "plt.plot(batchTime)\n"
   ]
  },
  {
   "cell_type": "markdown",
   "metadata": {},
   "source": []
  },
  {
   "cell_type": "code",
   "execution_count": null,
   "metadata": {},
   "outputs": [],
   "source": []
  }
 ],
 "metadata": {
  "kernelspec": {
   "display_name": "Python 3.10.1 64-bit",
   "language": "python",
   "name": "python3"
  },
  "language_info": {
   "codemirror_mode": {
    "name": "ipython",
    "version": 3
   },
   "file_extension": ".py",
   "mimetype": "text/x-python",
   "name": "python",
   "nbconvert_exporter": "python",
   "pygments_lexer": "ipython3",
   "version": "3.10.1"
  },
  "orig_nbformat": 4,
  "vscode": {
   "interpreter": {
    "hash": "726722e919e23c45be5c6cce449442ea865a346cd672f5e8d299527996a9260e"
   }
  }
 },
 "nbformat": 4,
 "nbformat_minor": 2
}
